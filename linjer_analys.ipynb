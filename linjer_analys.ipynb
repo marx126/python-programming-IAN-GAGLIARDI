{
 "cells": [
  {
   "cell_type": "markdown",
   "id": "480f14b9",
   "metadata": {},
   "source": [
    "# Analys av räta linjer\n",
    "\n",
    "En Jupyter-notebook som resonerar kring linjer, deras egenskaper och hur många sådana linjer som kan hittas."
   ]
  },
  {
   "cell_type": "markdown",
   "id": "c5b44ec3",
   "metadata": {},
   "source": [
    "## Introduktion till linjer och deras egenskaper\n",
    "\n",
    "En rät linje i ett tvådimensionellt kartesiskt koordinatsystem kan beskrivas med ekvationen `y = mx + c`. I denna ekvation representerar:\n",
    "- `m`: linjens lutning (slope). Den anger hur mycket `y`-värdet förändras för varje enhetssteg i `x`-led.\n",
    "- `c`: skärningspunkten med y-axeln (y-intercept). Det är det `y`-värde där linjen korsar y-axeln (d.v.s. när `x=0`).\n",
    "\n",
    "Syftet med denna notebook är att använda Python för att systematiskt generera, visualisera och analysera en uppsättning räta linjer. Vi kommer att undersöka hur antalet möjliga linjer beror på de val vi gör för lutning och skärningspunkt."
   ]
  },
  {
   "cell_type": "markdown",
   "id": "16b36052",
   "metadata": {},
   "source": [
    "## Generera linjer med Python\n",
    "\n",
    "För att arbeta med linjer programmatiskt kan vi representera varje linje med dess två definierande egenskaper: lutningen `m` och skärningspunkten `c`. Vi kommer att skapa en lista av talpar (tuples) `(m, c)` för att representera en samling unika linjer.\n",
    "\n",
    "Vi definierar först en uppsättning möjliga värden för `m` och `c` och kombinerar dem sedan för att skapa alla möjliga linjer."
   ]
  },
  {
   "cell_type": "code",
   "execution_count": null,
   "id": "d9d7aad1",
   "metadata": {},
   "outputs": [],
   "source": [
    "import numpy as np\n",
    "\n",
    "# Definiera en uppsättning möjliga värden för lutning (m) och skärningspunkt (c)\n",
    "possible_slopes = [-2, -1, -0.5, 0, 0.5, 1, 2]\n",
    "possible_intercepts = [-4, -2, 0, 2, 4]\n",
    "\n",
    "# Skapa en lista av alla möjliga linjer (kombinationer av m och c)\n",
    "lines = []\n",
    "for m in possible_slopes:\n",
    "    for c in possible_intercepts:\n",
    "        lines.append((m, c))\n",
    "\n",
    "# Visa antalet genererade linjer och de första fem\n",
    "print(f\"Antal möjliga lutningar: {len(possible_slopes)}\")\n",
    "print(f\"Antal möjliga skärningspunkter: {len(possible_intercepts)}\")\n",
    "print(f\"Totalt antal genererade linjer: {len(lines)}\")\n",
    "print(\"\\nExempel på de första 5 linjerna (m, c):\")\n",
    "for i in range(5):\n",
    "    print(lines[i])"
   ]
  },
  {
   "cell_type": "markdown",
   "id": "fe751651",
   "metadata": {},
   "source": [
    "## Visualisera linjer med Matplotlib\n",
    "\n",
    "För att få en intuitiv förståelse för hur linjerna ser ut är det bäst att visualisera dem. Vi använder Python-biblioteket `Matplotlib` för att rita upp varje linje i ett gemensamt koordinatsystem. Detta hjälper oss att se hur olika värden på `m` och `c` påverkar linjens utseende."
   ]
  },
  {
   "cell_type": "code",
   "execution_count": null,
   "id": "d3fe1e52",
   "metadata": {},
   "outputs": [],
   "source": [
    "import matplotlib.pyplot as plt\n",
    "\n",
    "# Skapa en figur och en axel för att rita på\n",
    "fig, ax = plt.subplots(figsize=(10, 8))\n",
    "\n",
    "# Definiera ett intervall för x-axeln\n",
    "x = np.linspace(-5, 5, 400)\n",
    "\n",
    "# Gå igenom varje linje och rita den\n",
    "for m, c in lines:\n",
    "    y = m * x + c\n",
    "    ax.plot(x, y, alpha=0.7) # alpha gör linjerna lite genomskinliga\n",
    "\n",
    "# Anpassa grafens utseende\n",
    "ax.set_title(\"Visualisering av genererade linjer\")\n",
    "ax.set_xlabel(\"x\")\n",
    "ax.set_ylabel(\"y\")\n",
    "ax.grid(True, which='both', linestyle='--', linewidth=0.5)\n",
    "ax.axhline(y=0, color='k', linewidth=0.8) # Rita x-axeln\n",
    "ax.axvline(x=0, color='k', linewidth=0.8) # Rita y-axeln\n",
    "ax.set_xlim([-5, 5])\n",
    "ax.set_ylim([-10, 10])\n",
    "\n",
    "# Visa grafen\n",
    "plt.show()"
   ]
  },
  {
   "cell_type": "markdown",
   "id": "2e1be1aa",
   "metadata": {},
   "source": [
    "## Undersökning av linjernas egenskaper\n",
    "\n",
    "Varje linje vi har skapat är unik på grund av sin specifika kombination av lutning och skärningspunkt. Vi kan analysera dessa egenskaper statistiskt. Låt oss beräkna medelvärde och standardavvikelse för de lutningar och skärningspunkter vi har använt."
   ]
  },
  {
   "cell_type": "code",
   "execution_count": null,
   "id": "d16531f0",
   "metadata": {},
   "outputs": [],
   "source": [
    "# Extrahera alla lutningar och skärningspunkter till separata listor\n",
    "slopes = [m for m, c in lines]\n",
    "intercepts = [c for m, c in lines]\n",
    "\n",
    "# Beräkna medelvärde och standardavvikelse\n",
    "mean_slope = np.mean(slopes)\n",
    "std_slope = np.std(slopes)\n",
    "\n",
    "mean_intercept = np.mean(intercepts)\n",
    "std_intercept = np.std(intercepts)\n",
    "\n",
    "print(\"--- Analys av linjernas egenskaper ---\")\n",
    "print(f\"Medelvärde för lutning (m): {mean_slope:.2f}\")\n",
    "print(f\"Standardavvikelse för lutning (m): {std_slope:.2f}\")\n",
    "print(f\"\\nMedelvärde för skärningspunkt (c): {mean_intercept:.2f}\")\n",
    "print(f\"Standardavvikelse för skärningspunkt (c): {std_intercept:.2f}\")"
   ]
  },
  {
   "cell_type": "markdown",
   "id": "2cbca2cd",
   "metadata": {},
   "source": [
    "## Beräkning av antalet möjliga linjer\n",
    "\n",
    "Antalet unika linjer som kan skapas är en direkt produkt av antalet val vi har för varje parameter. Om vi har `N_m` möjliga lutningar och `N_c` möjliga skärningspunkter, blir det totala antalet unika linjer `N_m * N_c`.\n",
    "\n",
    "Detta är ett exempel på en grundläggande kombinatorisk princip. Låt oss verifiera detta med koden nedan."
   ]
  },
  {
   "cell_type": "code",
   "execution_count": null,
   "id": "70012a39",
   "metadata": {},
   "outputs": [],
   "source": [
    "# Antalet val för varje parameter\n",
    "num_slopes = len(possible_slopes)\n",
    "num_intercepts = len(possible_intercepts)\n",
    "\n",
    "# Beräkna det totala antalet kombinationer\n",
    "total_combinations = num_slopes * num_intercepts\n",
    "\n",
    "print(f\"Antal val för lutning: {num_slopes}\")\n",
    "print(f\"Antal val för skärningspunkt: {num_intercepts}\")\n",
    "print(f\"Beräknat totalt antal linjer: {num_slopes} * {num_intercepts} = {total_combinations}\")\n",
    "\n",
    "# Jämför med det faktiska antalet genererade linjer i vår lista\n",
    "print(f\"Antal linjer i den genererade listan: {len(lines)}\")\n",
    "\n",
    "# Verifiering\n",
    "assert len(lines) == total_combinations\n",
    "print(\"\\nBeräkningen stämmer överens med antalet genererade linjer.\")"
   ]
  },
  {
   "cell_type": "markdown",
   "id": "a25eb463",
   "metadata": {},
   "source": [
    "## Diskussion och slutsatser\n",
    "\n",
    "Vi har framgångsrikt genererat, visualiserat och analyserat en uppsättning räta linjer med hjälp av Python.\n",
    "\n",
    "**Insikter:**\n",
    "1.  **Kombinatorik:** Antalet möjliga linjer växer snabbt när vi ökar antalet tillgängliga värden för lutning och skärningspunkt. Om vi skulle tillåta vilka reella tal som helst för `m` och `c`, skulle det finnas ett oändligt antal möjliga linjer.\n",
    "2.  **Visualisering:** Grafen visar tydligt hur parametrarna `m` och `c` påverkar en linjes utseende. Alla linjer med `m=0` är horisontella, och alla linjer passerar genom sin respektive skärningspunkt `c` på y-axeln.\n",
    "3.  **Struktur:** Genom att definiera ett begränsat och diskret urval av parametrar kan vi systematiskt utforska och analysera egenskaperna hos en familj av linjer.\n",
    "\n",
    "**Finns det anledning att föredra vissa linjer?**\n",
    "Svaret beror helt på sammanhanget. Inom dataanalys och maskininlärning (t.ex. linjär regression) söker man efter den linje som bäst \"passar\" en given datamängd. I det fallet är en linje att föredra framför en annan om den minimerar felet mellan linjen och datapunkterna. I vårt fall, där vi bara genererar linjer fritt, är alla linjer likvärdiga eftersom de alla är giltiga matematiska objekt baserade på våra val av `m` och `c`.\n",
    "\n",
    "Sammanfattningsvis visar denna analys hur man med enkla medel i Python kan utforska matematiska koncept och få en djupare, mer visuell förståelse för dem."
   ]
  },
  {
   "cell_type": "markdown",
   "id": "10278814",
   "metadata": {},
   "source": [
    "# Analys av räta linjer\n",
    "\n",
    "Denna notebook utforskar räta linjer, deras matematiska egenskaper, hur de kan representeras och visualiseras med Python, samt en beräkning av antalet möjliga linjer givet vissa begränsningar."
   ]
  },
  {
   "cell_type": "markdown",
   "id": "71392bd7",
   "metadata": {},
   "source": [
    "## Introduktion till linjer och deras egenskaper\n",
    "\n",
    "En rät linje i ett tvådimensionellt kartesiskt koordinatsystem kan beskrivas med ekvationen:\n",
    "\n",
    "**y = mx + c**\n",
    "\n",
    "där:\n",
    "- **y** är den beroende variabeln (värdet på y-axeln).\n",
    "- **x** är den oberoende variabeln (värdet på x-axeln).\n",
    "- **m** är linjens lutning (k-värde). Den beskriver hur mycket y-värdet förändras när x-värdet ökar med en enhet. En positiv lutning innebär att linjen stiger från vänster till höger, medan en negativ lutning innebär att den sjunker.\n",
    "- **c** är skärningspunkten med y-axeln (m-värde). Det är y-värdet där linjen korsar y-axeln (d.v.s. när x = 0).\n",
    "\n",
    "Att analysera linjer är fundamentalt inom många områden av matematik och vetenskap, från enkel algebra till komplexa modeller inom dataanalys (t.ex. linjär regression)."
   ]
  },
  {
   "cell_type": "markdown",
   "id": "d52f4b4c",
   "metadata": {},
   "source": [
    "## Generera linjer med Python\n",
    "\n",
    "Vi kan representera en linje i Python med hjälp av en funktion. Vi skapar en funktion som tar emot lutningen `m` och skärningspunkten `c` som argument och returnerar en ny funktion som representerar just den linjen."
   ]
  },
  {
   "cell_type": "code",
   "execution_count": null,
   "id": "48deeef7",
   "metadata": {},
   "outputs": [],
   "source": [
    "def skapa_linje(m, c):\n",
    "  \"\"\"\n",
    "  Skapar en funktion som representerar en rät linje y = mx + c.\n",
    "  \n",
    "  Args:\n",
    "    m (float): Linjens lutning.\n",
    "    c (float): Skärningspunkten med y-axeln.\n",
    "    \n",
    "  Returns:\n",
    "    function: En funktion som tar ett x-värde och returnerar motsvarande y-värde.\n",
    "  \"\"\"\n",
    "  return lambda x: m * x + c\n",
    "\n",
    "# Skapa två exempel-linjer\n",
    "linje1 = skapa_linje(m=2, c=1)   # y = 2x + 1\n",
    "linje2 = skapa_linje(m=-0.5, c=3) # y = -0.5x + 3\n",
    "\n",
    "# Beräkna y-värdet för ett specifikt x-värde för varje linje\n",
    "x_varde = 5\n",
    "y1 = linje1(x_varde)\n",
    "y2 = linje2(x_varde)\n",
    "\n",
    "print(f\"För linje 1 (y = 2x + 1), när x = {x_varde}, är y = {y1}\")\n",
    "print(f\"För linje 2 (y = -0.5x + 3), när x = {x_varde}, är y = {y2}\")"
   ]
  },
  {
   "cell_type": "markdown",
   "id": "615b89a9",
   "metadata": {},
   "source": [
    "## Visualisera linjer med Matplotlib\n",
    "\n",
    "Det bästa sättet att förstå egenskaperna hos en linje är att visualisera den. Vi använder biblioteket `Matplotlib` för att rita upp våra linjer i ett koordinatsystem."
   ]
  },
  {
   "cell_type": "code",
   "execution_count": null,
   "id": "2e3c0500",
   "metadata": {},
   "outputs": [],
   "source": [
    "import matplotlib.pyplot as plt\n",
    "import numpy as np\n",
    "\n",
    "# Skapa en uppsättning x-värden att rita över\n",
    "x_axel = np.linspace(-5, 5, 100) # 100 punkter från -5 till 5\n",
    "\n",
    "# Beräkna y-värdena för varje linje\n",
    "y_axel1 = linje1(x_axel)\n",
    "y_axel2 = linje2(x_axel)\n",
    "\n",
    "# Skapa en tredje linje för jämförelse\n",
    "linje3 = skapa_linje(m=2, c=-2) # Samma lutning som linje1, men annan skärningspunkt\n",
    "y_axel3 = linje3(x_axel)\n",
    "\n",
    "# Rita upp linjerna\n",
    "plt.figure(figsize=(10, 6))\n",
    "plt.plot(x_axel, y_axel1, label='y = 2x + 1 (Linje 1)')\n",
    "plt.plot(x_axel, y_axel2, label='y = -0.5x + 3 (Linje 2)')\n",
    "plt.plot(x_axel, y_axel3, label='y = 2x - 2 (Linje 3)', linestyle='--')\n",
    "\n",
    "# Lägg till axel-etiketter och en titel\n",
    "plt.title('Visualisering av räta linjer')\n",
    "plt.xlabel('x-axel')\n",
    "plt.ylabel('y-axel')\n",
    "\n",
    "# Lägg till ett rutnät och en legend\n",
    "plt.grid(True)\n",
    "plt.axhline(0, color='black',linewidth=0.5)\n",
    "plt.axvline(0, color='black',linewidth=0.5)\n",
    "plt.legend()\n",
    "\n",
    "# Visa grafen\n",
    "plt.show()"
   ]
  },
  {
   "cell_type": "markdown",
   "id": "d63de461",
   "metadata": {},
   "source": [
    "## Analysera och jämföra linjer\n",
    "\n",
    "Från grafen ovan kan vi dra flera slutsatser:\n",
    "\n",
    "- **Lutning (m):**\n",
    "  - `Linje 1` och `Linje 3` har samma lutning (`m=2`). Detta gör dem parallella.\n",
    "  - `Linje 2` har en negativ lutning (`m=-0.5`), vilket gör att den sjunker från vänster till höger. Den är också mindre brant än de andra två linjerna.\n",
    "\n",
    "- **Skärningspunkt (c):**\n",
    "  - `Linje 1` skär y-axeln vid `y=1`.\n",
    "  - `Linje 2` skär y-axeln vid `y=3`.\n",
    "  - `Linje 3` skär y-axeln vid `y=-2`.\n",
    "  - Skillnaden i `c`-värdet mellan `Linje 1` och `Linje 3` förskjuter helt enkelt linjen vertikalt i koordinatsystemet.\n",
    "\n",
    "Vi kan skriva kod för att extrahera och jämföra dessa egenskaper programmatiskt."
   ]
  },
  {
   "cell_type": "code",
   "execution_count": null,
   "id": "fda5cd31",
   "metadata": {},
   "outputs": [],
   "source": [
    "# Vi kan lagra linjernas egenskaper i en dictionary för enkel åtkomst\n",
    "linjer_data = {\n",
    "    \"Linje 1\": {\"m\": 2, \"c\": 1},\n",
    "    \"Linje 2\": {\"m\": -0.5, \"c\": 3},\n",
    "    \"Linje 3\": {\"m\": 2, \"c\": -2}\n",
    "}\n",
    "\n",
    "# Jämför lutningarna\n",
    "m1 = linjer_data[\"Linje 1\"][\"m\"]\n",
    "m3 = linjer_data[\"Linje 3\"][\"m\"]\n",
    "\n",
    "if m1 == m3:\n",
    "    print(\"Linje 1 och Linje 3 är parallella eftersom deras lutning är densamma (m = {}).\".format(m1))\n",
    "\n",
    "# Hitta linjen med den högsta skärningspunkten med y-axeln\n",
    "hogsta_c = -float('inf')\n",
    "linje_med_hogsta_c = None\n",
    "\n",
    "for namn, egenskaper in linjer_data.items():\n",
    "    if egenskaper[\"c\"] > hogsta_c:\n",
    "        hogsta_c = egenskaper[\"c\"]\n",
    "        linje_med_hogsta_c = namn\n",
    "\n",
    "print(f\"{linje_med_hogsta_c} har den högsta skärningspunkten med y-axeln vid y = {hogsta_c}.\")"
   ]
  },
  {
   "cell_type": "markdown",
   "id": "8afef9c9",
   "metadata": {},
   "source": [
    "## Beräkna antalet möjliga linjer\n",
    "\n",
    "Teoretiskt sett finns det oändligt många räta linjer, eftersom `m` och `c` kan vara vilka reella tal som helst. Men om vi begränsar oss till ett visst antal diskreta värden för lutning och skärningspunkt, kan vi beräkna det totala antalet unika linjer som kan skapas.\n",
    "\n",
    "Anta att vi bara tillåter ett visst antal heltalsvärden för `m` och `c`."
   ]
  },
  {
   "cell_type": "code",
   "execution_count": null,
   "id": "363c51f0",
   "metadata": {},
   "outputs": [],
   "source": [
    "# Definiera de tillåtna värdena för lutning (m) och skärningspunkt (c)\n",
    "mojliga_lutningar = [-2, -1, 0, 1, 2]\n",
    "mojliga_skarningspunkter = [-10, -5, 0, 5, 10]\n",
    "\n",
    "# Antalet möjliga val för m och c\n",
    "antal_m = len(mojliga_lutningar)\n",
    "antal_c = len(mojliga_skarningspunkter)\n",
    "\n",
    "# Det totala antalet unika linjer är produkten av antalet val för varje parameter\n",
    "totalt_antal_linjer = antal_m * antal_c\n",
    "\n",
    "print(f\"Givna {antal_m} möjliga lutningar: {mojliga_lutningar}\")\n",
    "print(f\"Givna {antal_c} möjliga skärningspunkter: {mojliga_skarningspunkter}\")\n",
    "print(\"-\" * 30)\n",
    "print(f\"Det totala antalet unika linjer som kan skapas är: {antal_m} * {antal_c} = {totalt_antal_linjer}\")\n",
    "\n",
    "# Exempel på en linje från dessa val\n",
    "exempel_linje = skapa_linje(m=mojliga_lutningar[3], c=mojliga_skarningspunkter[1]) # y = 1x - 5\n",
    "print(f\"\\nEtt exempel på en sådan linje är y = {mojliga_lutningar[3]}x + ({mojliga_skarningspunkter[1]})\")"
   ]
  },
  {
   "cell_type": "markdown",
   "id": "e52c9e81",
   "metadata": {},
   "source": [
    "## Diskussion och slutsatser\n",
    "\n",
    "Vi har sett hur räta linjer definieras av sin lutning (`m`) och sin skärningspunkt med y-axeln (`c`). Med hjälp av Python och Matplotlib kan vi enkelt skapa, visualisera och analysera dessa linjer.\n",
    "\n",
    "- **Finns det anledning att föredra vissa linjer framför andra?** Svaret beror helt på sammanhanget. Inom dataanalys söker man ofta efter den linje som bäst \"passar\" en uppsättning datapunkter (linjär regression). I andra fall kan en linje med en specifik lutning (t.ex. `m=1` för en 45-graders vinkel) eller en specifik skärningspunkt (t.ex. `c=0` för en linje genom origo) vara önskvärd.\n",
    "\n",
    "- **Antalet linjer:** Även om antalet linjer är oändligt i teorin, visar vår beräkning att genom att införa begränsningar kan vi kvantifiera antalet möjliga kombinationer. Detta är en grundläggande princip inom kombinatorik.\n",
    "\n",
    "Sammanfattningsvis är den enkla ekvationen `y = mx + c` ett kraftfullt verktyg för att modellera och förstå linjära samband i världen omkring oss."
   ]
  }
 ],
 "metadata": {
  "language_info": {
   "name": "python"
  }
 },
 "nbformat": 4,
 "nbformat_minor": 5
}
